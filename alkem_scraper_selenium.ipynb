{
 "cells": [
  {
   "cell_type": "code",
   "execution_count": 1,
   "metadata": {},
   "outputs": [],
   "source": [
    "import selenium\n",
    "from selenium import webdriver as wb\n",
    "webD = wb.Chrome('chromedriver.exe')\n",
    "webD.get('https://www.chemistsworld.com/manufacturers/alkem-laboratories-ltd.html')"
   ]
  },
  {
   "cell_type": "code",
   "execution_count": 2,
   "metadata": {},
   "outputs": [],
   "source": [
    "products_all = webD.find_elements_by_class_name('ManufacturerName')"
   ]
  },
  {
   "cell_type": "code",
   "execution_count": 3,
   "metadata": {},
   "outputs": [
    {
     "data": {
      "text/plain": [
       "'3 Cef 250mg Tablet'"
      ]
     },
     "execution_count": 3,
     "metadata": {},
     "output_type": "execute_result"
    }
   ],
   "source": [
    "products_all[0].text"
   ]
  },
  {
   "cell_type": "code",
   "execution_count": 4,
   "metadata": {},
   "outputs": [
    {
     "data": {
      "text/plain": [
       "1423"
      ]
     },
     "execution_count": 4,
     "metadata": {},
     "output_type": "execute_result"
    }
   ],
   "source": [
    "len(products_all)"
   ]
  },
  {
   "cell_type": "code",
   "execution_count": 5,
   "metadata": {},
   "outputs": [
    {
     "data": {
      "text/plain": [
       "<selenium.webdriver.remote.webelement.WebElement (session=\"3aff4bb8dd4c0f203c45965e175acf7d\", element=\"8200db4c-bd57-45ff-b365-ea4712cbf7d4\")>"
      ]
     },
     "execution_count": 5,
     "metadata": {},
     "output_type": "execute_result"
    }
   ],
   "source": [
    "products_all[0]"
   ]
  },
  {
   "cell_type": "code",
   "execution_count": 6,
   "metadata": {},
   "outputs": [],
   "source": [
    "y = products_all[0]"
   ]
  },
  {
   "cell_type": "code",
   "execution_count": 7,
   "metadata": {},
   "outputs": [
    {
     "data": {
      "text/plain": [
       "'https://www.chemistsworld.com/prescription/3-cef-250mg-tablet.html'"
      ]
     },
     "execution_count": 7,
     "metadata": {},
     "output_type": "execute_result"
    }
   ],
   "source": [
    "y.get_property('href')"
   ]
  },
  {
   "cell_type": "markdown",
   "metadata": {},
   "source": [
    "listoflinks=[]\n",
    "condition=True\n",
    "while (condition):\n",
    "    products_all = webD.find_elements_by_class_name('ManufacturerName')\n",
    "    for ele in products_all:\n",
    "        #step1 = ele.find_elements_by_tag_name('h4')[-1]\n",
    "        #step2 = step1.find_element_by_tag_name('a')\n",
    "        listoflinks.append(ele.get_property('href'))\n",
    "    try:\n",
    "        #webD.find_element_by_xpath('/html/body/div[1]/div[3]/div/div[2]/ul/li[13]/a').click()\n",
    "        webD.find_elements_by_class_name('page-link')[-1].click()   \n",
    "    except:\n",
    "        condition=False"
   ]
  },
  {
   "cell_type": "code",
   "execution_count": 8,
   "metadata": {},
   "outputs": [],
   "source": [
    "listoflinks=[]\n",
    "for ele in products_all:\n",
    "    listoflinks.append(ele.get_property('href'))"
   ]
  },
  {
   "cell_type": "code",
   "execution_count": 9,
   "metadata": {},
   "outputs": [
    {
     "data": {
      "text/plain": [
       "1423"
      ]
     },
     "execution_count": 9,
     "metadata": {},
     "output_type": "execute_result"
    }
   ],
   "source": [
    "len(listoflinks)"
   ]
  },
  {
   "cell_type": "code",
   "execution_count": 10,
   "metadata": {},
   "outputs": [
    {
     "data": {
      "text/plain": [
       "['https://www.chemistsworld.com/prescription/3-cef-250mg-tablet.html',\n",
       " 'https://www.chemistsworld.com/prescription/3cef-novo-1000-mg-500-mg-injection.html',\n",
       " 'https://www.chemistsworld.com/prescription/3cef-novo-250-mg-125-mg-injection.html',\n",
       " 'https://www.chemistsworld.com/prescription/3cef-novo-500-mg-250-mg-injection.html',\n",
       " 'https://www.chemistsworld.com/otc/a-to-z-ns-oral-drops-otc116064.html']"
      ]
     },
     "execution_count": 10,
     "metadata": {},
     "output_type": "execute_result"
    }
   ],
   "source": [
    "listoflinks[:5]"
   ]
  },
  {
   "cell_type": "code",
   "execution_count": 11,
   "metadata": {},
   "outputs": [],
   "source": [
    "import numpy as np\n",
    "import pandas as pd"
   ]
  },
  {
   "cell_type": "code",
   "execution_count": 12,
   "metadata": {},
   "outputs": [
    {
     "name": "stderr",
     "output_type": "stream",
     "text": [
      "100%|██████████████████████████████████████████████████████████████████████████████| 1423/1423 [32:32<00:00,  1.37s/it]\n"
     ]
    }
   ],
   "source": [
    "from tqdm import tqdm\n",
    "alldetails=[]\n",
    "for i in tqdm(listoflinks):\n",
    "    webD.get(i)\n",
    "    try:\n",
    "        name = webD.find_element_by_xpath('/html/body/section[2]/div/div/div/div[1]/div[1]/h1').text\n",
    "        #                                /html/body/section[1]/div/div[1]/div[1]/div/div[2]/div/h1\n",
    "        price = webD.find_element_by_xpath('/html/body/section[2]/div/div/div/div[1]/div[1]/div[1]/font/h5').text\n",
    "        #                                  /html/body/section[1]/div/div[1]/div[1]/div/div[2]/div/ul[2]/li[1]\n",
    "        pack_size = webD.find_element_by_xpath('/html/body/section[2]/div/div/div/div[1]/div[1]/div[1]/h3').text\n",
    "        #                                       /html/body/section[1]/div/div[1]/div[1]/div/div[2]/div/ul[1]/li[1]\n",
    "        manf = webD.find_element_by_xpath('/html/body/section[2]/div/div/div/div[1]/div[1]/div[2]/h2').text\n",
    "        #                                  /html/body/section[1]/div/div[1]/div[1]/div/div[2]/div/ul[1]/li[2]\n",
    "        pres = webD.find_element_by_xpath('/html/body/section[2]/div/div/div/div[1]/div[1]/div[2]/span[1]/h6').text\n",
    "        #\n",
    "        comp = webD.find_element_by_xpath('/html/body/section[2]/div/div/div/div[1]/div[1]/div[2]/span[2]/h6').text\n",
    "        #                                  /html/body/section[2]/div/div/div/div[1]/div[1]/div[2]/span[2]/h6\n",
    "        used = webD.find_element_by_xpath('/html/body/section[2]/div/div/div/div[1]/div[1]/div[2]/h4').text\n",
    "        #stock = webD.find_element_by_xpath('/html/body/section[2]/div/div/div/div[1]/div[1]/div[1]/span/button').text\n",
    "        tempj = {'name':name,\n",
    "         'price':price,\n",
    "         'pack_size':pack_size,\n",
    "         'manufactured_by':manf,\n",
    "         'prescription_required':pres,\n",
    "         'composition/comments':comp,\n",
    "         'used_for':used,\n",
    "        #     'stock':stock\n",
    "        }\n",
    "        alldetails.append(tempj)\n",
    "    except:\n",
    "        try:\n",
    "            name = webD.find_element_by_xpath('/html/body/section[1]/div/div[1]/div[1]/div/div[2]/div/h1').text\n",
    "            price = webD.find_element_by_xpath('/html/body/section[1]/div/div[1]/div[1]/div/div[2]/div/ul[2]/li[1]').text\n",
    "            pack_size = webD.find_element_by_xpath('/html/body/section[1]/div/div[1]/div[1]/div/div[2]/div/ul[1]/li[1]').text\n",
    "            manf = webD.find_element_by_xpath('/html/body/section[1]/div/div[1]/div[1]/div/div[2]/div/ul[1]/li[2]').text\n",
    "            pres = np.nan\n",
    "            comp = np.nan\n",
    "            used = np.nan\n",
    "            tempj = {'name':name,\n",
    "             'price':price,\n",
    "             'pack_size':pack_size,\n",
    "             'manufactured_by':manf,\n",
    "             'prescription_required':pres,\n",
    "             'composition/comments':comp,\n",
    "             'used_for':used,\n",
    "             #     'stock':stock\n",
    "             }\n",
    "        except:\n",
    "            continue"
   ]
  },
  {
   "cell_type": "code",
   "execution_count": 13,
   "metadata": {},
   "outputs": [
    {
     "data": {
      "text/plain": [
       "1010"
      ]
     },
     "execution_count": 13,
     "metadata": {},
     "output_type": "execute_result"
    }
   ],
   "source": [
    "len(alldetails)"
   ]
  },
  {
   "cell_type": "code",
   "execution_count": 15,
   "metadata": {},
   "outputs": [
    {
     "data": {
      "text/html": [
       "<div>\n",
       "<style scoped>\n",
       "    .dataframe tbody tr th:only-of-type {\n",
       "        vertical-align: middle;\n",
       "    }\n",
       "\n",
       "    .dataframe tbody tr th {\n",
       "        vertical-align: top;\n",
       "    }\n",
       "\n",
       "    .dataframe thead th {\n",
       "        text-align: right;\n",
       "    }\n",
       "</style>\n",
       "<table border=\"1\" class=\"dataframe\">\n",
       "  <thead>\n",
       "    <tr style=\"text-align: right;\">\n",
       "      <th></th>\n",
       "      <th>name</th>\n",
       "      <th>price</th>\n",
       "      <th>pack_size</th>\n",
       "      <th>manufactured_by</th>\n",
       "      <th>prescription_required</th>\n",
       "      <th>composition/comments</th>\n",
       "      <th>used_for</th>\n",
       "    </tr>\n",
       "  </thead>\n",
       "  <tbody>\n",
       "    <tr>\n",
       "      <th>0</th>\n",
       "      <td>3 Cef 250mg Tablet</td>\n",
       "      <td>290.00</td>\n",
       "      <td>29.0/Tablet(10 Tablets In 1 Strip)</td>\n",
       "      <td>Manufacture : Alkem Laboratories Ltd</td>\n",
       "      <td>Prescription Required</td>\n",
       "      <td>Composition: Cefprozil (250mg)</td>\n",
       "      <td>Fundamentally used for : Bacterial infections</td>\n",
       "    </tr>\n",
       "    <tr>\n",
       "      <th>1</th>\n",
       "      <td>3Cef Novo 1000 mg/500 mg Injection</td>\n",
       "      <td>187.00</td>\n",
       "      <td>187.0/Injection(1 Injection In 1 Vial)</td>\n",
       "      <td>Manufacture : Alkem Laboratories Ltd</td>\n",
       "      <td>Prescription Required</td>\n",
       "      <td>Composition: Cefoperazone (1000mg), Sulbactam ...</td>\n",
       "      <td>Fundamentally used for : Bacterial infections</td>\n",
       "    </tr>\n",
       "    <tr>\n",
       "      <th>2</th>\n",
       "      <td>3Cef Novo 250 mg/125 mg Injection</td>\n",
       "      <td>87.00</td>\n",
       "      <td>(1 Injection In 1 Vial)</td>\n",
       "      <td>Manufacture : Alkem Laboratories Ltd</td>\n",
       "      <td>Prescription Required</td>\n",
       "      <td>Potentially unsafe with : Alcohol</td>\n",
       "      <td>Fundamentally used for : Bacterial infections</td>\n",
       "    </tr>\n",
       "    <tr>\n",
       "      <th>3</th>\n",
       "      <td>3Cef Novo 500 mg/250 mg Injection</td>\n",
       "      <td>112.50</td>\n",
       "      <td>(1 Injection In 1 Vial)</td>\n",
       "      <td>Manufacture : Alkem Laboratories Ltd</td>\n",
       "      <td>Prescription Required</td>\n",
       "      <td>Potentially unsafe with : Alcohol</td>\n",
       "      <td>Fundamentally used for : Bacterial infections</td>\n",
       "    </tr>\n",
       "    <tr>\n",
       "      <th>4</th>\n",
       "      <td>Aceloflam MR Tablet</td>\n",
       "      <td>64.00</td>\n",
       "      <td>6.4/Tablet(10 Tablets In 1 Strip)</td>\n",
       "      <td>Manufacture : Alkem Laboratories Ltd</td>\n",
       "      <td>Prescription Required</td>\n",
       "      <td>Composition: Aceclofenac (100mg), Paracetamol ...</td>\n",
       "      <td>Fundamentally used for : Fever, Muscle relaxat...</td>\n",
       "    </tr>\n",
       "    <tr>\n",
       "      <th>5</th>\n",
       "      <td>Aceloflam Plus 100 mg/500 mg Tablet</td>\n",
       "      <td>49.00</td>\n",
       "      <td>4.9/Tablet(10 Tablets In 1 Strip)</td>\n",
       "      <td>Manufacture : Alkem Laboratories Ltd</td>\n",
       "      <td>Prescription Required</td>\n",
       "      <td>Potentially unsafe with : Alcohol</td>\n",
       "      <td>Fundamentally used for : Fever, Headache, Arth...</td>\n",
       "    </tr>\n",
       "    <tr>\n",
       "      <th>6</th>\n",
       "      <td>Aceloflam SP Tablet</td>\n",
       "      <td>20.00</td>\n",
       "      <td>2.0/Tablet(10 Tablets In 1 Strip)</td>\n",
       "      <td>Manufacture : Alkem Laboratories Ltd</td>\n",
       "      <td>Prescription Required</td>\n",
       "      <td>Potentially unsafe with : Alcohol</td>\n",
       "      <td>Fundamentally used for : Fever, Pain, Headache</td>\n",
       "    </tr>\n",
       "    <tr>\n",
       "      <th>7</th>\n",
       "      <td>Aceloflam XP 100 mg/325 mg Tablet</td>\n",
       "      <td>87.00</td>\n",
       "      <td>5.8/Tablet(15 Tablets In 1 Strip)</td>\n",
       "      <td>Manufacture : Alkem Laboratories Ltd</td>\n",
       "      <td>Prescription Required</td>\n",
       "      <td>Composition: Aceclofenac (100mg), Paracetamol ...</td>\n",
       "      <td>Fundamentally used for : Fever, Headache, Arth...</td>\n",
       "    </tr>\n",
       "    <tr>\n",
       "      <th>8</th>\n",
       "      <td>Acuflam SP 100 mg/500 mg/15 mg Tablet</td>\n",
       "      <td>6.18</td>\n",
       "      <td>0.62/Tablet(10 Tablets In 1 Strip)</td>\n",
       "      <td>Manufacture : Alkem Laboratories Ltd</td>\n",
       "      <td>Prescription Required</td>\n",
       "      <td>Composition: Aceclofenac (100mg), Paracetamol ...</td>\n",
       "      <td>Fundamentally used for : Fever, Pain, Headache</td>\n",
       "    </tr>\n",
       "    <tr>\n",
       "      <th>9</th>\n",
       "      <td>Albekem 400mg Tablet</td>\n",
       "      <td>10.52</td>\n",
       "      <td>10.52/Tablet(1 Tablet In 1 Strip)</td>\n",
       "      <td>Manufacture : Alkem Laboratories Ltd</td>\n",
       "      <td>Prescription Required</td>\n",
       "      <td>Composition: Albendazole (400mg)</td>\n",
       "      <td>Fundamentally used for : Parasitic worm infect...</td>\n",
       "    </tr>\n",
       "  </tbody>\n",
       "</table>\n",
       "</div>"
      ],
      "text/plain": [
       "                                    name   price  \\\n",
       "0                     3 Cef 250mg Tablet  290.00   \n",
       "1     3Cef Novo 1000 mg/500 mg Injection  187.00   \n",
       "2      3Cef Novo 250 mg/125 mg Injection   87.00   \n",
       "3      3Cef Novo 500 mg/250 mg Injection  112.50   \n",
       "4                    Aceloflam MR Tablet   64.00   \n",
       "5    Aceloflam Plus 100 mg/500 mg Tablet   49.00   \n",
       "6                    Aceloflam SP Tablet   20.00   \n",
       "7      Aceloflam XP 100 mg/325 mg Tablet   87.00   \n",
       "8  Acuflam SP 100 mg/500 mg/15 mg Tablet    6.18   \n",
       "9                   Albekem 400mg Tablet   10.52   \n",
       "\n",
       "                                pack_size  \\\n",
       "0      29.0/Tablet(10 Tablets In 1 Strip)   \n",
       "1  187.0/Injection(1 Injection In 1 Vial)   \n",
       "2                 (1 Injection In 1 Vial)   \n",
       "3                 (1 Injection In 1 Vial)   \n",
       "4       6.4/Tablet(10 Tablets In 1 Strip)   \n",
       "5       4.9/Tablet(10 Tablets In 1 Strip)   \n",
       "6       2.0/Tablet(10 Tablets In 1 Strip)   \n",
       "7       5.8/Tablet(15 Tablets In 1 Strip)   \n",
       "8      0.62/Tablet(10 Tablets In 1 Strip)   \n",
       "9       10.52/Tablet(1 Tablet In 1 Strip)   \n",
       "\n",
       "                        manufactured_by  prescription_required  \\\n",
       "0  Manufacture : Alkem Laboratories Ltd  Prescription Required   \n",
       "1  Manufacture : Alkem Laboratories Ltd  Prescription Required   \n",
       "2  Manufacture : Alkem Laboratories Ltd  Prescription Required   \n",
       "3  Manufacture : Alkem Laboratories Ltd  Prescription Required   \n",
       "4  Manufacture : Alkem Laboratories Ltd  Prescription Required   \n",
       "5  Manufacture : Alkem Laboratories Ltd  Prescription Required   \n",
       "6  Manufacture : Alkem Laboratories Ltd  Prescription Required   \n",
       "7  Manufacture : Alkem Laboratories Ltd  Prescription Required   \n",
       "8  Manufacture : Alkem Laboratories Ltd  Prescription Required   \n",
       "9  Manufacture : Alkem Laboratories Ltd  Prescription Required   \n",
       "\n",
       "                                composition/comments  \\\n",
       "0                     Composition: Cefprozil (250mg)   \n",
       "1  Composition: Cefoperazone (1000mg), Sulbactam ...   \n",
       "2                  Potentially unsafe with : Alcohol   \n",
       "3                  Potentially unsafe with : Alcohol   \n",
       "4  Composition: Aceclofenac (100mg), Paracetamol ...   \n",
       "5                  Potentially unsafe with : Alcohol   \n",
       "6                  Potentially unsafe with : Alcohol   \n",
       "7  Composition: Aceclofenac (100mg), Paracetamol ...   \n",
       "8  Composition: Aceclofenac (100mg), Paracetamol ...   \n",
       "9                   Composition: Albendazole (400mg)   \n",
       "\n",
       "                                            used_for  \n",
       "0      Fundamentally used for : Bacterial infections  \n",
       "1      Fundamentally used for : Bacterial infections  \n",
       "2      Fundamentally used for : Bacterial infections  \n",
       "3      Fundamentally used for : Bacterial infections  \n",
       "4  Fundamentally used for : Fever, Muscle relaxat...  \n",
       "5  Fundamentally used for : Fever, Headache, Arth...  \n",
       "6     Fundamentally used for : Fever, Pain, Headache  \n",
       "7  Fundamentally used for : Fever, Headache, Arth...  \n",
       "8     Fundamentally used for : Fever, Pain, Headache  \n",
       "9  Fundamentally used for : Parasitic worm infect...  "
      ]
     },
     "execution_count": 15,
     "metadata": {},
     "output_type": "execute_result"
    }
   ],
   "source": [
    "df = pd.DataFrame(alldetails)\n",
    "df.head(10)"
   ]
  },
  {
   "cell_type": "code",
   "execution_count": 16,
   "metadata": {},
   "outputs": [],
   "source": [
    "df.to_excel('1stscrapeAlkem.xlsx',encoding='utf-8')"
   ]
  },
  {
   "cell_type": "code",
   "execution_count": 17,
   "metadata": {},
   "outputs": [
    {
     "data": {
      "text/plain": [
       "Prescription Required                                   984\n",
       "Composition: Paracetamol (650mg)                          4\n",
       "Composition: Paracetamol / Acetaminophen (250mg/5ml)      4\n",
       "Composition: Paracetamol / Acetaminophen (125mg/5ml)      4\n",
       "Composition: Paracetamol (500mg)                          3\n",
       "Composition: Paracetamol (250mg/5ml)                      2\n",
       "Composition: Paracetamol / Acetaminophen (100mg/ml)       2\n",
       "Composition: Paracetamol / Acetaminophen (NA)             1\n",
       "Composition: Paracetamol (125mg)                          1\n",
       "Composition: Paracetamol (150mg)                          1\n",
       "Composition: Paracetamol (100mg/ml)                       1\n",
       "Composition: Paracetamol / Acetaminophen (500mg)          1\n",
       "Composition: Paracetamol (125mg/5ml)                      1\n",
       "Composition: Paracetamol / Acetaminophen (20mg)           1\n",
       "Name: prescription_required, dtype: int64"
      ]
     },
     "execution_count": 17,
     "metadata": {},
     "output_type": "execute_result"
    }
   ],
   "source": [
    "df[\"prescription_required\"].value_counts()"
   ]
  },
  {
   "cell_type": "code",
   "execution_count": 20,
   "metadata": {},
   "outputs": [
    {
     "data": {
      "text/html": [
       "<div>\n",
       "<style scoped>\n",
       "    .dataframe tbody tr th:only-of-type {\n",
       "        vertical-align: middle;\n",
       "    }\n",
       "\n",
       "    .dataframe tbody tr th {\n",
       "        vertical-align: top;\n",
       "    }\n",
       "\n",
       "    .dataframe thead th {\n",
       "        text-align: right;\n",
       "    }\n",
       "</style>\n",
       "<table border=\"1\" class=\"dataframe\">\n",
       "  <thead>\n",
       "    <tr style=\"text-align: right;\">\n",
       "      <th></th>\n",
       "      <th>name</th>\n",
       "      <th>price</th>\n",
       "      <th>pack_size</th>\n",
       "      <th>manufactured_by</th>\n",
       "      <th>prescription_required</th>\n",
       "      <th>composition/comments</th>\n",
       "      <th>used_for</th>\n",
       "    </tr>\n",
       "  </thead>\n",
       "  <tbody>\n",
       "    <tr>\n",
       "      <th>633</th>\n",
       "      <td>P U C 650mg Tablet</td>\n",
       "      <td>15.08</td>\n",
       "      <td>1.51/Tablet(10 Tablets In 1 Strip)</td>\n",
       "      <td>Manufacture : Alkem Laboratories Ltd</td>\n",
       "      <td>Composition: Paracetamol (650mg)</td>\n",
       "      <td>Potentially unsafe with : Alcohol</td>\n",
       "      <td>Fundamentally used for : Fever, Headache, Pain...</td>\n",
       "    </tr>\n",
       "    <tr>\n",
       "      <th>691</th>\n",
       "      <td>Pyrakem 650mg Tablet</td>\n",
       "      <td>5.53</td>\n",
       "      <td>0.47/Tablet(10 Tablets In 1 Strip)</td>\n",
       "      <td>Manufacture : Alkem Laboratories Ltd</td>\n",
       "      <td>Composition: Paracetamol (650mg)</td>\n",
       "      <td>Potentially unsafe with : Alcohol</td>\n",
       "      <td>Fundamentally used for : Fever, Headache, Pain...</td>\n",
       "    </tr>\n",
       "    <tr>\n",
       "      <th>698</th>\n",
       "      <td>Pyricool 650mg Tablet</td>\n",
       "      <td>7.93</td>\n",
       "      <td>0.79/Tablet(10 Tablets In 1 Strip)</td>\n",
       "      <td>Manufacture : Alkem Laboratories Ltd</td>\n",
       "      <td>Composition: Paracetamol (650mg)</td>\n",
       "      <td>Potentially unsafe with : Alcohol</td>\n",
       "      <td>Fundamentally used for : Fever, Headache, Pain...</td>\n",
       "    </tr>\n",
       "    <tr>\n",
       "      <th>809</th>\n",
       "      <td>Sumo L 650mg Tablet ER</td>\n",
       "      <td>28.04</td>\n",
       "      <td>1.8/Tablet ER(10 Tablet Er In 1 Strip)</td>\n",
       "      <td>Manufacture : Alkem Laboratories Ltd</td>\n",
       "      <td>Composition: Paracetamol (650mg)</td>\n",
       "      <td>Potentially unsafe with : Alcohol</td>\n",
       "      <td>Fundamentally used for : Fever, Headache, Pain...</td>\n",
       "    </tr>\n",
       "  </tbody>\n",
       "</table>\n",
       "</div>"
      ],
      "text/plain": [
       "                       name  price                               pack_size  \\\n",
       "633      P U C 650mg Tablet  15.08      1.51/Tablet(10 Tablets In 1 Strip)   \n",
       "691    Pyrakem 650mg Tablet   5.53      0.47/Tablet(10 Tablets In 1 Strip)   \n",
       "698   Pyricool 650mg Tablet   7.93      0.79/Tablet(10 Tablets In 1 Strip)   \n",
       "809  Sumo L 650mg Tablet ER  28.04  1.8/Tablet ER(10 Tablet Er In 1 Strip)   \n",
       "\n",
       "                          manufactured_by             prescription_required  \\\n",
       "633  Manufacture : Alkem Laboratories Ltd  Composition: Paracetamol (650mg)   \n",
       "691  Manufacture : Alkem Laboratories Ltd  Composition: Paracetamol (650mg)   \n",
       "698  Manufacture : Alkem Laboratories Ltd  Composition: Paracetamol (650mg)   \n",
       "809  Manufacture : Alkem Laboratories Ltd  Composition: Paracetamol (650mg)   \n",
       "\n",
       "                  composition/comments  \\\n",
       "633  Potentially unsafe with : Alcohol   \n",
       "691  Potentially unsafe with : Alcohol   \n",
       "698  Potentially unsafe with : Alcohol   \n",
       "809  Potentially unsafe with : Alcohol   \n",
       "\n",
       "                                              used_for  \n",
       "633  Fundamentally used for : Fever, Headache, Pain...  \n",
       "691  Fundamentally used for : Fever, Headache, Pain...  \n",
       "698  Fundamentally used for : Fever, Headache, Pain...  \n",
       "809  Fundamentally used for : Fever, Headache, Pain...  "
      ]
     },
     "execution_count": 20,
     "metadata": {},
     "output_type": "execute_result"
    }
   ],
   "source": [
    "df[df['prescription_required']=='Composition: Paracetamol (650mg)']"
   ]
  },
  {
   "cell_type": "code",
   "execution_count": 21,
   "metadata": {},
   "outputs": [
    {
     "data": {
      "text/html": [
       "<div>\n",
       "<style scoped>\n",
       "    .dataframe tbody tr th:only-of-type {\n",
       "        vertical-align: middle;\n",
       "    }\n",
       "\n",
       "    .dataframe tbody tr th {\n",
       "        vertical-align: top;\n",
       "    }\n",
       "\n",
       "    .dataframe thead th {\n",
       "        text-align: right;\n",
       "    }\n",
       "</style>\n",
       "<table border=\"1\" class=\"dataframe\">\n",
       "  <thead>\n",
       "    <tr style=\"text-align: right;\">\n",
       "      <th></th>\n",
       "      <th>name</th>\n",
       "      <th>price</th>\n",
       "      <th>pack_size</th>\n",
       "      <th>manufactured_by</th>\n",
       "      <th>prescription_required</th>\n",
       "      <th>composition/comments</th>\n",
       "      <th>used_for</th>\n",
       "    </tr>\n",
       "  </thead>\n",
       "  <tbody>\n",
       "    <tr>\n",
       "      <th>1005</th>\n",
       "      <td>Zukamin Suspension</td>\n",
       "      <td>16.25</td>\n",
       "      <td>(60 Ml In 1 Bottle)</td>\n",
       "      <td>Manufacture : Alkem Laboratories Ltd</td>\n",
       "      <td>Prescription Required</td>\n",
       "      <td>Composition: Chlorpheniramine (2mg) + Paraceta...</td>\n",
       "      <td>Fundamentally used for : Allergic disorders, F...</td>\n",
       "    </tr>\n",
       "    <tr>\n",
       "      <th>1006</th>\n",
       "      <td>Zukamin Tablet</td>\n",
       "      <td>6.25</td>\n",
       "      <td>0.62/Tablet(10 Tablets In 1 Strip)</td>\n",
       "      <td>Manufacture : Alkem Laboratories Ltd</td>\n",
       "      <td>Prescription Required</td>\n",
       "      <td>Potentially unsafe with : Alcohol</td>\n",
       "      <td>Fundamentally used for : Allergic disorders, F...</td>\n",
       "    </tr>\n",
       "    <tr>\n",
       "      <th>1007</th>\n",
       "      <td>Zukarest Tablet</td>\n",
       "      <td>7.50</td>\n",
       "      <td>0.75/Tablet(10 Tablets In 1 Strip)</td>\n",
       "      <td>Manufacture : Alkem Laboratories Ltd</td>\n",
       "      <td>Prescription Required</td>\n",
       "      <td>Potentially unsafe with : Alcohol</td>\n",
       "      <td>Fundamentally used for : Allergic disorders, F...</td>\n",
       "    </tr>\n",
       "    <tr>\n",
       "      <th>1008</th>\n",
       "      <td>Zuricab 0.5mg Tablet</td>\n",
       "      <td>115.23</td>\n",
       "      <td>57.62/Tablet(2 Tablets In 1 Strip)</td>\n",
       "      <td>Manufacture : Alkem Laboratories Ltd</td>\n",
       "      <td>Prescription Required</td>\n",
       "      <td>Composition: Cabergoline (0.5mg)</td>\n",
       "      <td>Fundamentally used for : Increased prolactin l...</td>\n",
       "    </tr>\n",
       "    <tr>\n",
       "      <th>1009</th>\n",
       "      <td>Zytiprost 250mg Tablet</td>\n",
       "      <td>34285.70</td>\n",
       "      <td>1142.86/Tablet(30 Tablets In 1 Strip)</td>\n",
       "      <td>Manufacture : Alkem Laboratories Ltd</td>\n",
       "      <td>Prescription Required</td>\n",
       "      <td>Potentially unsafe with : Pregnancy,Lactation</td>\n",
       "      <td>Fundamentally used for : Prostate cancer</td>\n",
       "    </tr>\n",
       "  </tbody>\n",
       "</table>\n",
       "</div>"
      ],
      "text/plain": [
       "                        name     price                              pack_size  \\\n",
       "1005      Zukamin Suspension     16.25                    (60 Ml In 1 Bottle)   \n",
       "1006          Zukamin Tablet      6.25     0.62/Tablet(10 Tablets In 1 Strip)   \n",
       "1007         Zukarest Tablet      7.50     0.75/Tablet(10 Tablets In 1 Strip)   \n",
       "1008    Zuricab 0.5mg Tablet    115.23     57.62/Tablet(2 Tablets In 1 Strip)   \n",
       "1009  Zytiprost 250mg Tablet  34285.70  1142.86/Tablet(30 Tablets In 1 Strip)   \n",
       "\n",
       "                           manufactured_by  prescription_required  \\\n",
       "1005  Manufacture : Alkem Laboratories Ltd  Prescription Required   \n",
       "1006  Manufacture : Alkem Laboratories Ltd  Prescription Required   \n",
       "1007  Manufacture : Alkem Laboratories Ltd  Prescription Required   \n",
       "1008  Manufacture : Alkem Laboratories Ltd  Prescription Required   \n",
       "1009  Manufacture : Alkem Laboratories Ltd  Prescription Required   \n",
       "\n",
       "                                   composition/comments  \\\n",
       "1005  Composition: Chlorpheniramine (2mg) + Paraceta...   \n",
       "1006                  Potentially unsafe with : Alcohol   \n",
       "1007                  Potentially unsafe with : Alcohol   \n",
       "1008                   Composition: Cabergoline (0.5mg)   \n",
       "1009      Potentially unsafe with : Pregnancy,Lactation   \n",
       "\n",
       "                                               used_for  \n",
       "1005  Fundamentally used for : Allergic disorders, F...  \n",
       "1006  Fundamentally used for : Allergic disorders, F...  \n",
       "1007  Fundamentally used for : Allergic disorders, F...  \n",
       "1008  Fundamentally used for : Increased prolactin l...  \n",
       "1009           Fundamentally used for : Prostate cancer  "
      ]
     },
     "execution_count": 21,
     "metadata": {},
     "output_type": "execute_result"
    }
   ],
   "source": [
    "df.tail()"
   ]
  },
  {
   "cell_type": "code",
   "execution_count": 43,
   "metadata": {},
   "outputs": [],
   "source": [
    "df[\"manufactured_by_1\"] = df[\"manufactured_by\"].apply(lambda x:x[14:])"
   ]
  },
  {
   "cell_type": "code",
   "execution_count": 46,
   "metadata": {},
   "outputs": [],
   "source": [
    "df[\"used_for\"] = df[\"used_for\"].apply(lambda x:x[25:])"
   ]
  },
  {
   "cell_type": "code",
   "execution_count": 47,
   "metadata": {},
   "outputs": [
    {
     "data": {
      "text/html": [
       "<div>\n",
       "<style scoped>\n",
       "    .dataframe tbody tr th:only-of-type {\n",
       "        vertical-align: middle;\n",
       "    }\n",
       "\n",
       "    .dataframe tbody tr th {\n",
       "        vertical-align: top;\n",
       "    }\n",
       "\n",
       "    .dataframe thead th {\n",
       "        text-align: right;\n",
       "    }\n",
       "</style>\n",
       "<table border=\"1\" class=\"dataframe\">\n",
       "  <thead>\n",
       "    <tr style=\"text-align: right;\">\n",
       "      <th></th>\n",
       "      <th>name</th>\n",
       "      <th>price</th>\n",
       "      <th>pack_size</th>\n",
       "      <th>manufactured_by</th>\n",
       "      <th>prescription_required</th>\n",
       "      <th>composition/comments</th>\n",
       "      <th>used_for</th>\n",
       "      <th>manufactured_by_1</th>\n",
       "    </tr>\n",
       "  </thead>\n",
       "  <tbody>\n",
       "    <tr>\n",
       "      <th>0</th>\n",
       "      <td>3 Cef 250mg Tablet</td>\n",
       "      <td>290.00</td>\n",
       "      <td>29.0/Tablet(10 Tablets In 1 Strip)</td>\n",
       "      <td>Manufacture : Alkem Laboratories Ltd</td>\n",
       "      <td>Prescription Required</td>\n",
       "      <td>Composition: Cefprozil (250mg)</td>\n",
       "      <td>Bacterial infections</td>\n",
       "      <td>Alkem Laboratories Ltd</td>\n",
       "    </tr>\n",
       "    <tr>\n",
       "      <th>1</th>\n",
       "      <td>3Cef Novo 1000 mg/500 mg Injection</td>\n",
       "      <td>187.00</td>\n",
       "      <td>187.0/Injection(1 Injection In 1 Vial)</td>\n",
       "      <td>Manufacture : Alkem Laboratories Ltd</td>\n",
       "      <td>Prescription Required</td>\n",
       "      <td>Composition: Cefoperazone (1000mg), Sulbactam ...</td>\n",
       "      <td>Bacterial infections</td>\n",
       "      <td>Alkem Laboratories Ltd</td>\n",
       "    </tr>\n",
       "    <tr>\n",
       "      <th>2</th>\n",
       "      <td>3Cef Novo 250 mg/125 mg Injection</td>\n",
       "      <td>87.00</td>\n",
       "      <td>(1 Injection In 1 Vial)</td>\n",
       "      <td>Manufacture : Alkem Laboratories Ltd</td>\n",
       "      <td>Prescription Required</td>\n",
       "      <td>Potentially unsafe with : Alcohol</td>\n",
       "      <td>Bacterial infections</td>\n",
       "      <td>Alkem Laboratories Ltd</td>\n",
       "    </tr>\n",
       "    <tr>\n",
       "      <th>3</th>\n",
       "      <td>3Cef Novo 500 mg/250 mg Injection</td>\n",
       "      <td>112.50</td>\n",
       "      <td>(1 Injection In 1 Vial)</td>\n",
       "      <td>Manufacture : Alkem Laboratories Ltd</td>\n",
       "      <td>Prescription Required</td>\n",
       "      <td>Potentially unsafe with : Alcohol</td>\n",
       "      <td>Bacterial infections</td>\n",
       "      <td>Alkem Laboratories Ltd</td>\n",
       "    </tr>\n",
       "    <tr>\n",
       "      <th>4</th>\n",
       "      <td>Aceloflam MR Tablet</td>\n",
       "      <td>64.00</td>\n",
       "      <td>6.4/Tablet(10 Tablets In 1 Strip)</td>\n",
       "      <td>Manufacture : Alkem Laboratories Ltd</td>\n",
       "      <td>Prescription Required</td>\n",
       "      <td>Composition: Aceclofenac (100mg), Paracetamol ...</td>\n",
       "      <td>Fever, Muscle relaxation, Headache</td>\n",
       "      <td>Alkem Laboratories Ltd</td>\n",
       "    </tr>\n",
       "  </tbody>\n",
       "</table>\n",
       "</div>"
      ],
      "text/plain": [
       "                                 name   price  \\\n",
       "0                  3 Cef 250mg Tablet  290.00   \n",
       "1  3Cef Novo 1000 mg/500 mg Injection  187.00   \n",
       "2   3Cef Novo 250 mg/125 mg Injection   87.00   \n",
       "3   3Cef Novo 500 mg/250 mg Injection  112.50   \n",
       "4                 Aceloflam MR Tablet   64.00   \n",
       "\n",
       "                                pack_size  \\\n",
       "0      29.0/Tablet(10 Tablets In 1 Strip)   \n",
       "1  187.0/Injection(1 Injection In 1 Vial)   \n",
       "2                 (1 Injection In 1 Vial)   \n",
       "3                 (1 Injection In 1 Vial)   \n",
       "4       6.4/Tablet(10 Tablets In 1 Strip)   \n",
       "\n",
       "                        manufactured_by  prescription_required  \\\n",
       "0  Manufacture : Alkem Laboratories Ltd  Prescription Required   \n",
       "1  Manufacture : Alkem Laboratories Ltd  Prescription Required   \n",
       "2  Manufacture : Alkem Laboratories Ltd  Prescription Required   \n",
       "3  Manufacture : Alkem Laboratories Ltd  Prescription Required   \n",
       "4  Manufacture : Alkem Laboratories Ltd  Prescription Required   \n",
       "\n",
       "                                composition/comments  \\\n",
       "0                     Composition: Cefprozil (250mg)   \n",
       "1  Composition: Cefoperazone (1000mg), Sulbactam ...   \n",
       "2                  Potentially unsafe with : Alcohol   \n",
       "3                  Potentially unsafe with : Alcohol   \n",
       "4  Composition: Aceclofenac (100mg), Paracetamol ...   \n",
       "\n",
       "                             used_for       manufactured_by_1  \n",
       "0                Bacterial infections  Alkem Laboratories Ltd  \n",
       "1                Bacterial infections  Alkem Laboratories Ltd  \n",
       "2                Bacterial infections  Alkem Laboratories Ltd  \n",
       "3                Bacterial infections  Alkem Laboratories Ltd  \n",
       "4  Fever, Muscle relaxation, Headache  Alkem Laboratories Ltd  "
      ]
     },
     "execution_count": 47,
     "metadata": {},
     "output_type": "execute_result"
    }
   ],
   "source": [
    "df.head()"
   ]
  },
  {
   "cell_type": "code",
   "execution_count": 35,
   "metadata": {},
   "outputs": [],
   "source": [
    "def clean_manf(inp):\n",
    "    return(inp[2])\n",
    "    \n",
    "df[\"manufactured_by_1\"] = df[\"manufactured_by_1\"].apply(lambda x:clean_manf(str(x)))"
   ]
  },
  {
   "cell_type": "code",
   "execution_count": 48,
   "metadata": {},
   "outputs": [],
   "source": [
    "df[\"prescription_required\"].replace(\"Prescription Required\",\"Yes\",inplace=True)"
   ]
  },
  {
   "cell_type": "code",
   "execution_count": 53,
   "metadata": {},
   "outputs": [
    {
     "data": {
      "text/plain": [
       "Yes    984\n",
       "Name: prescription_required, dtype: int64"
      ]
     },
     "execution_count": 53,
     "metadata": {},
     "output_type": "execute_result"
    }
   ],
   "source": [
    "df[\"prescription_required\"].value_counts()"
   ]
  },
  {
   "cell_type": "code",
   "execution_count": 50,
   "metadata": {},
   "outputs": [],
   "source": [
    "def clean_pres(inp):\n",
    "    if(inp=='Yes'):\n",
    "        return 'Yes'\n",
    "    else:\n",
    "        return np.nan"
   ]
  },
  {
   "cell_type": "code",
   "execution_count": 51,
   "metadata": {},
   "outputs": [],
   "source": [
    "df[\"prescription_required\"] = df[\"prescription_required\"].apply(lambda x:clean_pres(str(x)))"
   ]
  },
  {
   "cell_type": "code",
   "execution_count": 56,
   "metadata": {},
   "outputs": [
    {
     "data": {
      "text/html": [
       "<div>\n",
       "<style scoped>\n",
       "    .dataframe tbody tr th:only-of-type {\n",
       "        vertical-align: middle;\n",
       "    }\n",
       "\n",
       "    .dataframe tbody tr th {\n",
       "        vertical-align: top;\n",
       "    }\n",
       "\n",
       "    .dataframe thead th {\n",
       "        text-align: right;\n",
       "    }\n",
       "</style>\n",
       "<table border=\"1\" class=\"dataframe\">\n",
       "  <thead>\n",
       "    <tr style=\"text-align: right;\">\n",
       "      <th></th>\n",
       "      <th>name</th>\n",
       "      <th>price</th>\n",
       "      <th>pack_size</th>\n",
       "      <th>prescription_required</th>\n",
       "      <th>composition/comments</th>\n",
       "      <th>used_for</th>\n",
       "      <th>manufactured_by</th>\n",
       "    </tr>\n",
       "  </thead>\n",
       "  <tbody>\n",
       "    <tr>\n",
       "      <th>0</th>\n",
       "      <td>3 Cef 250mg Tablet</td>\n",
       "      <td>290.00</td>\n",
       "      <td>29.0/Tablet(10 Tablets In 1 Strip)</td>\n",
       "      <td>Yes</td>\n",
       "      <td>Composition: Cefprozil (250mg)</td>\n",
       "      <td>Bacterial infections</td>\n",
       "      <td>Alkem Laboratories Ltd</td>\n",
       "    </tr>\n",
       "    <tr>\n",
       "      <th>1</th>\n",
       "      <td>3Cef Novo 1000 mg/500 mg Injection</td>\n",
       "      <td>187.00</td>\n",
       "      <td>187.0/Injection(1 Injection In 1 Vial)</td>\n",
       "      <td>Yes</td>\n",
       "      <td>Composition: Cefoperazone (1000mg), Sulbactam ...</td>\n",
       "      <td>Bacterial infections</td>\n",
       "      <td>Alkem Laboratories Ltd</td>\n",
       "    </tr>\n",
       "    <tr>\n",
       "      <th>2</th>\n",
       "      <td>3Cef Novo 250 mg/125 mg Injection</td>\n",
       "      <td>87.00</td>\n",
       "      <td>(1 Injection In 1 Vial)</td>\n",
       "      <td>Yes</td>\n",
       "      <td>Potentially unsafe with : Alcohol</td>\n",
       "      <td>Bacterial infections</td>\n",
       "      <td>Alkem Laboratories Ltd</td>\n",
       "    </tr>\n",
       "    <tr>\n",
       "      <th>3</th>\n",
       "      <td>3Cef Novo 500 mg/250 mg Injection</td>\n",
       "      <td>112.50</td>\n",
       "      <td>(1 Injection In 1 Vial)</td>\n",
       "      <td>Yes</td>\n",
       "      <td>Potentially unsafe with : Alcohol</td>\n",
       "      <td>Bacterial infections</td>\n",
       "      <td>Alkem Laboratories Ltd</td>\n",
       "    </tr>\n",
       "    <tr>\n",
       "      <th>4</th>\n",
       "      <td>Aceloflam MR Tablet</td>\n",
       "      <td>64.00</td>\n",
       "      <td>6.4/Tablet(10 Tablets In 1 Strip)</td>\n",
       "      <td>Yes</td>\n",
       "      <td>Composition: Aceclofenac (100mg), Paracetamol ...</td>\n",
       "      <td>Fever, Muscle relaxation, Headache</td>\n",
       "      <td>Alkem Laboratories Ltd</td>\n",
       "    </tr>\n",
       "  </tbody>\n",
       "</table>\n",
       "</div>"
      ],
      "text/plain": [
       "                                 name   price  \\\n",
       "0                  3 Cef 250mg Tablet  290.00   \n",
       "1  3Cef Novo 1000 mg/500 mg Injection  187.00   \n",
       "2   3Cef Novo 250 mg/125 mg Injection   87.00   \n",
       "3   3Cef Novo 500 mg/250 mg Injection  112.50   \n",
       "4                 Aceloflam MR Tablet   64.00   \n",
       "\n",
       "                                pack_size prescription_required  \\\n",
       "0      29.0/Tablet(10 Tablets In 1 Strip)                   Yes   \n",
       "1  187.0/Injection(1 Injection In 1 Vial)                   Yes   \n",
       "2                 (1 Injection In 1 Vial)                   Yes   \n",
       "3                 (1 Injection In 1 Vial)                   Yes   \n",
       "4       6.4/Tablet(10 Tablets In 1 Strip)                   Yes   \n",
       "\n",
       "                                composition/comments  \\\n",
       "0                     Composition: Cefprozil (250mg)   \n",
       "1  Composition: Cefoperazone (1000mg), Sulbactam ...   \n",
       "2                  Potentially unsafe with : Alcohol   \n",
       "3                  Potentially unsafe with : Alcohol   \n",
       "4  Composition: Aceclofenac (100mg), Paracetamol ...   \n",
       "\n",
       "                             used_for         manufactured_by  \n",
       "0                Bacterial infections  Alkem Laboratories Ltd  \n",
       "1                Bacterial infections  Alkem Laboratories Ltd  \n",
       "2                Bacterial infections  Alkem Laboratories Ltd  \n",
       "3                Bacterial infections  Alkem Laboratories Ltd  \n",
       "4  Fever, Muscle relaxation, Headache  Alkem Laboratories Ltd  "
      ]
     },
     "execution_count": 56,
     "metadata": {},
     "output_type": "execute_result"
    }
   ],
   "source": [
    "df.head()"
   ]
  },
  {
   "cell_type": "code",
   "execution_count": 55,
   "metadata": {},
   "outputs": [],
   "source": [
    "df.drop(['manufactured_by'],axis=1,inplace=True)\n",
    "df.rename(columns={'manufactured_by_1':'manufactured_by'},inplace=True)"
   ]
  },
  {
   "cell_type": "code",
   "execution_count": 57,
   "metadata": {},
   "outputs": [],
   "source": [
    "df.to_excel('1stscrapeAlkem2.xlsx',encoding='utf-8')"
   ]
  },
  {
   "cell_type": "code",
   "execution_count": null,
   "metadata": {},
   "outputs": [],
   "source": []
  }
 ],
 "metadata": {
  "kernelspec": {
   "display_name": "Python 3",
   "language": "python",
   "name": "python3"
  },
  "language_info": {
   "codemirror_mode": {
    "name": "ipython",
    "version": 3
   },
   "file_extension": ".py",
   "mimetype": "text/x-python",
   "name": "python",
   "nbconvert_exporter": "python",
   "pygments_lexer": "ipython3",
   "version": "3.7.7"
  }
 },
 "nbformat": 4,
 "nbformat_minor": 4
}
